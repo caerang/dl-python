{
 "cells": [
  {
   "cell_type": "markdown",
   "metadata": {},
   "source": [
    "# 5.1 Generalization: The goal of machine learning"
   ]
  }
 ],
 "metadata": {
  "interpreter": {
   "hash": "dc64fc6e19eed405ff4ebb7fc752bf301f3add8a871103af944071a777e7cfda"
  },
  "kernelspec": {
   "display_name": "Python 3.9.7 64-bit ('tf': conda)",
   "language": "python",
   "name": "python3"
  },
  "language_info": {
   "name": "python",
   "version": "3.9.7"
  },
  "orig_nbformat": 4
 },
 "nbformat": 4,
 "nbformat_minor": 2
}
