{
 "cells": [
  {
   "cell_type": "markdown",
   "metadata": {},
   "source": [
    "# 2.2 Data Representations for Neural Networks"
   ]
  },
  {
   "cell_type": "markdown",
   "metadata": {},
   "source": [
    "일반적으로 최근 기계 학습 프레임워크는 텐서를 기본 자료 구조로 사용\n",
    "\n",
    "텐서는 숫자를 저장할 수 있는 컨테이너"
   ]
  },
  {
   "cell_type": "markdown",
   "metadata": {},
   "source": [
    "## 2.2.1 Scalars (rank-0 텐서)"
   ]
  },
  {
   "cell_type": "markdown",
   "metadata": {},
   "source": [
    "숫자 하나로만 표현하는 텐서는 스칼라라고 함(또는 스칼라 텐서, rank-0 tensor). numpy에서 float32 또는 float64 숫자는 스칼라 텐서. `ndim` 속성을 사용해서 numpy tensor의 축의 개수를 표시할 수 있음"
   ]
  },
  {
   "cell_type": "code",
   "execution_count": 44,
   "metadata": {},
   "outputs": [
    {
     "name": "stdout",
     "output_type": "stream",
     "text": [
      "12\n"
     ]
    },
    {
     "data": {
      "text/plain": [
       "0"
      ]
     },
     "execution_count": 44,
     "metadata": {},
     "output_type": "execute_result"
    }
   ],
   "source": [
    "import numpy as np\n",
    "\n",
    "x = np.array(12)\n",
    "print(x)\n",
    "x.ndim"
   ]
  },
  {
   "cell_type": "markdown",
   "metadata": {},
   "source": [
    "## 2.2.2 Vectors (rank-1 tensor)"
   ]
  },
  {
   "cell_type": "markdown",
   "metadata": {},
   "source": [
    "숫자의 배열은 벡터(rank-1 tensor, 1D tensor)라고 함. 1D tensor는 축이 한 개임"
   ]
  },
  {
   "cell_type": "code",
   "execution_count": 45,
   "metadata": {},
   "outputs": [
    {
     "name": "stdout",
     "output_type": "stream",
     "text": [
      "[ 1  2  4  8 16]\n"
     ]
    },
    {
     "data": {
      "text/plain": [
       "1"
      ]
     },
     "execution_count": 45,
     "metadata": {},
     "output_type": "execute_result"
    }
   ],
   "source": [
    "x = np.array([1, 2, 4, 8, 16])\n",
    "print(x)\n",
    "x.ndim"
   ]
  },
  {
   "cell_type": "markdown",
   "metadata": {},
   "source": [
    "코드에서 벡터 x는 원소가 다섯개 이기 때문에 5차원 벡터임."
   ]
  },
  {
   "cell_type": "markdown",
   "metadata": {},
   "source": [
    "## 2.2.3 Matrices (rank-2 tensors)\n",
    "\n",
    "벡터의 배열은 행렬(rank-2 tensor, 2D tensor)이라고 함. 행렬은 두 개의 axes(rows, columns)를 갖고 있음. 행렬은 테이블로 생각할 수 있음"
   ]
  },
  {
   "cell_type": "code",
   "execution_count": 46,
   "metadata": {},
   "outputs": [
    {
     "data": {
      "text/plain": [
       "2"
      ]
     },
     "execution_count": 46,
     "metadata": {},
     "output_type": "execute_result"
    }
   ],
   "source": [
    "x = np.array([\n",
    "    [5, 78, 2, 34, 0],\n",
    "    [6, 79, 3, 25, 1],\n",
    "    [8, 89, 4, 38, 2]\n",
    "])\n",
    "x.ndim"
   ]
  },
  {
   "cell_type": "markdown",
   "metadata": {},
   "source": [
    "첫 번째 axis를 rows, 두 번째 axis를 columns라고 함. 코드에서 `[5, 78, 2, 34, 0]` 가 첫 번재 행렬 x의 첫 번째 row 이고 `[5, 6, 8]` 이 행렬 x의 첫 번째 column"
   ]
  },
  {
   "cell_type": "markdown",
   "metadata": {},
   "source": [
    "## 2.2.4 Rank-3 and higher-rank tensors"
   ]
  },
  {
   "cell_type": "markdown",
   "metadata": {},
   "source": [
    "행렬을 새로운 배열에 쌓으면 rank-3 tensor가 됨(3D tensor). 숫자들의 큐브 형태로 생각할 수 있음 [그림 추가]"
   ]
  },
  {
   "cell_type": "code",
   "execution_count": 47,
   "metadata": {},
   "outputs": [
    {
     "data": {
      "text/plain": [
       "3"
      ]
     },
     "execution_count": 47,
     "metadata": {},
     "output_type": "execute_result"
    }
   ],
   "source": [
    "x = np.array([\n",
    "    [[5, 78, 2, 34, 0],\n",
    "     [6, 79, 3, 25, 1],\n",
    "     [7, 80, 4, 36, 2]],\n",
    "    [[5, 78, 2, 34, 0],\n",
    "     [6, 79, 3, 25, 1],\n",
    "     [7, 80, 4, 36, 2]],\n",
    "    [[5, 78, 2, 34, 0],\n",
    "     [6, 79, 3, 25, 1],\n",
    "     [7, 80, 4, 36, 2]]\n",
    "])\n",
    "x.ndim"
   ]
  },
  {
   "cell_type": "markdown",
   "metadata": {},
   "source": [
    "## 2.2.5 Key attributes"
   ]
  },
  {
   "cell_type": "markdown",
   "metadata": {},
   "source": [
    "- Number of axes(rank) : 텐서가 가지고 있는 축의 수\n",
    "- Shape : a tuple of integer (텐서가 각 축에 대해서 가지고 있는 차원의 수)\n",
    "- Data type (dtype in python library) : float16, float32, float64, uint8, ..."
   ]
  },
  {
   "cell_type": "code",
   "execution_count": 48,
   "metadata": {},
   "outputs": [
    {
     "name": "stdout",
     "output_type": "stream",
     "text": [
      "3\n",
      "(60000, 28, 28)\n",
      "uint8\n"
     ]
    }
   ],
   "source": [
    "from tensorflow.keras.datasets import mnist\n",
    "(train_images, train_labels), (test_images, test_labels) = mnist.load_data()\n",
    "print(train_images.ndim)\n",
    "print(train_images.shape)\n",
    "print(train_images.dtype)"
   ]
  },
  {
   "cell_type": "code",
   "execution_count": 49,
   "metadata": {},
   "outputs": [
    {
     "data": {
      "image/png": "[encoded data removed]",
      "text/plain": [
       "<Figure size 432x288 with 1 Axes>"
      ]
     },
     "metadata": {
      "needs_background": "light"
     },
     "output_type": "display_data"
    },
    {
     "name": "stdout",
     "output_type": "stream",
     "text": [
      "6\n"
     ]
    }
   ],
   "source": [
    "import matplotlib.pyplot as plt\n",
    "index = 90\n",
    "digit = train_images[index]\n",
    "plt.imshow(digit, cmap=plt.cm.binary)\n",
    "plt.show()\n",
    "print(train_labels[index])"
   ]
  },
  {
   "cell_type": "markdown",
   "metadata": {},
   "source": [
    "## 2.2.6 Manipulating tensors in Numpy"
   ]
  },
  {
   "cell_type": "code",
   "execution_count": 50,
   "metadata": {},
   "outputs": [
    {
     "name": "stdout",
     "output_type": "stream",
     "text": [
      "(90, 28, 28)\n",
      "(90, 28, 28)\n",
      "(90, 28, 28)\n",
      "(60000, 14, 14)\n"
     ]
    },
    {
     "data": {
      "image/png": "[encoded data removed]",
      "text/plain": [
       "<Figure size 432x288 with 1 Axes>"
      ]
     },
     "metadata": {
      "needs_background": "light"
     },
     "output_type": "display_data"
    },
    {
     "data": {
      "image/png": "[encoded data removed]",
      "text/plain": [
       "<Figure size 432x288 with 1 Axes>"
      ]
     },
     "metadata": {
      "needs_background": "light"
     },
     "output_type": "display_data"
    }
   ],
   "source": [
    "my_slice = train_images[10:100]\n",
    "print(my_slice.shape)\n",
    "my_slice2 = train_images[10:100, :, :]\n",
    "print(my_slice2.shape)\n",
    "my_slice3 = train_images[10:100, 0:28, 0:28]\n",
    "print(my_slice3.shape)\n",
    "my_slice4 = train_images[:, 14:, 14:]\n",
    "print(my_slice4.shape)\n",
    "plt.imshow(my_slice4[index], cmap=plt.cm.binary)\n",
    "plt.show()\n",
    "my_slice5 = train_images[:, 7:-7, 7:-7]\n",
    "plt.imshow(my_slice5[index], cmap=plt.cm.binary)\n",
    "plt.show()"
   ]
  },
  {
   "cell_type": "markdown",
   "metadata": {},
   "source": [
    "## 2.2.7 The notion of data batches"
   ]
  },
  {
   "cell_type": "code",
   "execution_count": 51,
   "metadata": {},
   "outputs": [
    {
     "name": "stdout",
     "output_type": "stream",
     "text": [
      "(128, 28, 28)\n",
      "(128, 28, 28)\n",
      "(128, 28, 28)\n"
     ]
    }
   ],
   "source": [
    "batch = train_images[:128]\n",
    "print(batch.shape)\n",
    "batch = train_images[128:256]\n",
    "print(batch.shape)\n",
    "\n",
    "n = 3\n",
    "batch = train_images[128 * n:128 * (n + 1)]\n",
    "print(batch.shape)"
   ]
  },
  {
   "cell_type": "markdown",
   "metadata": {},
   "source": [
    "배치를 다룰 때 첫 번째 축(axis)를 배치 axis(batch dimension)라고 함"
   ]
  },
  {
   "cell_type": "markdown",
   "metadata": {},
   "source": [
    "## 2.2.8 Real-world examples of data tensors"
   ]
  },
  {
   "cell_type": "markdown",
   "metadata": {},
   "source": [
    "- Vector data : rank-2 tensor (samples, features)\n",
    "- Timeseries data (sequence data) : rank-3 tensors (samples, teimesteps, features)\n",
    "- Images : rank-4 tensors (samples, height, width, channels)\n",
    "- Video : rank-5 tensor (samples, frames, height, width, channels)"
   ]
  },
  {
   "cell_type": "markdown",
   "metadata": {},
   "source": [
    "## 2.2.9 Vector data"
   ]
  },
  {
   "cell_type": "markdown",
   "metadata": {},
   "source": [
    "## 2.2.10 Timeseries data or sequence data"
   ]
  },
  {
   "cell_type": "markdown",
   "metadata": {},
   "source": [
    "## 2.2.11 Image data"
   ]
  },
  {
   "cell_type": "markdown",
   "metadata": {},
   "source": [
    "## 2.2.12 Video data"
   ]
  },
  {
   "cell_type": "markdown",
   "metadata": {},
   "source": [
    "# 2.3 The gears of neural networks: Tensor operations"
   ]
  },
  {
   "cell_type": "code",
   "execution_count": 52,
   "metadata": {},
   "outputs": [
    {
     "data": {
      "text/plain": [
       "<keras.layers.core.Dense at 0x7fb833c26eb0>"
      ]
     },
     "execution_count": 52,
     "metadata": {},
     "output_type": "execute_result"
    }
   ],
   "source": [
    "from tensorflow import keras\n",
    "keras.layers.Dense(512, activation=\"relu\")\n",
    "\n",
    "# output = relu(dot(input, W) + b)"
   ]
  },
  {
   "cell_type": "markdown",
   "metadata": {},
   "source": [
    "## 2.3.1 Element-wise operations"
   ]
  },
  {
   "cell_type": "markdown",
   "metadata": {},
   "source": [
    "- `relu` 연산과 더하기 연산은 element-wise 연산자"
   ]
  },
  {
   "cell_type": "code",
   "execution_count": 53,
   "metadata": {},
   "outputs": [],
   "source": [
    "def naive_relu(x):\n",
    "    assert len(x.shape) == 2 # 2d-tensor\n",
    "    x = x.copy()\n",
    "    for i in range(x.shape[0]):\n",
    "        for j in range(x.shape[1]):\n",
    "            x[i, j] = max(x[i, j], 0)\n",
    "    return x\n"
   ]
  },
  {
   "cell_type": "code",
   "execution_count": 54,
   "metadata": {},
   "outputs": [
    {
     "name": "stdout",
     "output_type": "stream",
     "text": [
      "[[-2 -1  0  2  3  4  5]\n",
      " [-2 -1  0  2  3  4  5]]\n",
      "[[0 0 0 2 3 4 5]\n",
      " [0 0 0 2 3 4 5]]\n"
     ]
    }
   ],
   "source": [
    "import random\n",
    "x = np.array([[-2, -1, 0, 2, 3, 4, 5], [-2, -1, 0, 2, 3, 4, 5]])\n",
    "print(x)\n",
    "y = naive_relu(x)\n",
    "print(y)"
   ]
  },
  {
   "cell_type": "code",
   "execution_count": 55,
   "metadata": {},
   "outputs": [],
   "source": [
    "def naive_add(x, y):\n",
    "    assert len(x.shape) == 2\n",
    "    assert x.shape == y.shape\n",
    "    x = x.copy()\n",
    "    for i in range(x.shape[0]):\n",
    "        for j in range(x.shape[1]):\n",
    "            x[i, j] += y[i, j]\n",
    "    return x"
   ]
  },
  {
   "cell_type": "code",
   "execution_count": 56,
   "metadata": {},
   "outputs": [
    {
     "name": "stdout",
     "output_type": "stream",
     "text": [
      "[[-2 -1  0  2  3  4  5]\n",
      " [-2 -1  0  2  3  4  5]]\n",
      "[[0 0 0 2 3 4 5]\n",
      " [0 0 0 2 3 4 5]]\n",
      "[[ 0.  0.  0.  4.  6.  8. 10.]\n",
      " [ 0.  0.  0.  4.  6.  8. 10.]]\n"
     ]
    }
   ],
   "source": [
    "print(x)\n",
    "print(y)\n",
    "z = x + y\n",
    "z = np.maximum(z, 0.)\n",
    "print(z)"
   ]
  },
  {
   "cell_type": "code",
   "execution_count": 57,
   "metadata": {},
   "outputs": [
    {
     "name": "stdout",
     "output_type": "stream",
     "text": [
      "Took: 0.008291482925415039 s\n"
     ]
    }
   ],
   "source": [
    "import time\n",
    "\n",
    "x = np.random.random((20, 100))\n",
    "y = np.random.random((20, 100))\n",
    "t0 = time.time()\n",
    "for _ in range(1000):\n",
    "    z = x + y\n",
    "    z = np.maximum(z, 0.)\n",
    "print(f\"Took: {time.time() - t0} s\")"
   ]
  },
  {
   "cell_type": "code",
   "execution_count": 58,
   "metadata": {},
   "outputs": [
    {
     "name": "stdout",
     "output_type": "stream",
     "text": [
      "Took: 1.7243328094482422 s\n"
     ]
    }
   ],
   "source": [
    "t0 = time.time()\n",
    "for _ in range(1000):\n",
    "    z = naive_add(x, y)\n",
    "    z = naive_relu(z)\n",
    "print(f\"Took: {time.time() - t0} s\")"
   ]
  },
  {
   "cell_type": "markdown",
   "metadata": {},
   "source": [
    "## 2.3.2 Broadcasting"
   ]
  },
  {
   "cell_type": "code",
   "execution_count": 59,
   "metadata": {},
   "outputs": [
    {
     "name": "stdout",
     "output_type": "stream",
     "text": [
      "(10,)\n",
      "(1, 10)\n",
      "(32, 10)\n",
      "[[0.09212745 0.56805643 0.63807929 0.50213729 0.17356606 0.86949858\n",
      "  0.06289222 0.57367958 0.11786196 0.19333484]\n",
      " [0.09212745 0.56805643 0.63807929 0.50213729 0.17356606 0.86949858\n",
      "  0.06289222 0.57367958 0.11786196 0.19333484]\n",
      " [0.09212745 0.56805643 0.63807929 0.50213729 0.17356606 0.86949858\n",
      "  0.06289222 0.57367958 0.11786196 0.19333484]\n",
      " [0.09212745 0.56805643 0.63807929 0.50213729 0.17356606 0.86949858\n",
      "  0.06289222 0.57367958 0.11786196 0.19333484]\n",
      " [0.09212745 0.56805643 0.63807929 0.50213729 0.17356606 0.86949858\n",
      "  0.06289222 0.57367958 0.11786196 0.19333484]\n",
      " [0.09212745 0.56805643 0.63807929 0.50213729 0.17356606 0.86949858\n",
      "  0.06289222 0.57367958 0.11786196 0.19333484]\n",
      " [0.09212745 0.56805643 0.63807929 0.50213729 0.17356606 0.86949858\n",
      "  0.06289222 0.57367958 0.11786196 0.19333484]\n",
      " [0.09212745 0.56805643 0.63807929 0.50213729 0.17356606 0.86949858\n",
      "  0.06289222 0.57367958 0.11786196 0.19333484]\n",
      " [0.09212745 0.56805643 0.63807929 0.50213729 0.17356606 0.86949858\n",
      "  0.06289222 0.57367958 0.11786196 0.19333484]\n",
      " [0.09212745 0.56805643 0.63807929 0.50213729 0.17356606 0.86949858\n",
      "  0.06289222 0.57367958 0.11786196 0.19333484]\n",
      " [0.09212745 0.56805643 0.63807929 0.50213729 0.17356606 0.86949858\n",
      "  0.06289222 0.57367958 0.11786196 0.19333484]\n",
      " [0.09212745 0.56805643 0.63807929 0.50213729 0.17356606 0.86949858\n",
      "  0.06289222 0.57367958 0.11786196 0.19333484]\n",
      " [0.09212745 0.56805643 0.63807929 0.50213729 0.17356606 0.86949858\n",
      "  0.06289222 0.57367958 0.11786196 0.19333484]\n",
      " [0.09212745 0.56805643 0.63807929 0.50213729 0.17356606 0.86949858\n",
      "  0.06289222 0.57367958 0.11786196 0.19333484]\n",
      " [0.09212745 0.56805643 0.63807929 0.50213729 0.17356606 0.86949858\n",
      "  0.06289222 0.57367958 0.11786196 0.19333484]\n",
      " [0.09212745 0.56805643 0.63807929 0.50213729 0.17356606 0.86949858\n",
      "  0.06289222 0.57367958 0.11786196 0.19333484]\n",
      " [0.09212745 0.56805643 0.63807929 0.50213729 0.17356606 0.86949858\n",
      "  0.06289222 0.57367958 0.11786196 0.19333484]\n",
      " [0.09212745 0.56805643 0.63807929 0.50213729 0.17356606 0.86949858\n",
      "  0.06289222 0.57367958 0.11786196 0.19333484]\n",
      " [0.09212745 0.56805643 0.63807929 0.50213729 0.17356606 0.86949858\n",
      "  0.06289222 0.57367958 0.11786196 0.19333484]\n",
      " [0.09212745 0.56805643 0.63807929 0.50213729 0.17356606 0.86949858\n",
      "  0.06289222 0.57367958 0.11786196 0.19333484]\n",
      " [0.09212745 0.56805643 0.63807929 0.50213729 0.17356606 0.86949858\n",
      "  0.06289222 0.57367958 0.11786196 0.19333484]\n",
      " [0.09212745 0.56805643 0.63807929 0.50213729 0.17356606 0.86949858\n",
      "  0.06289222 0.57367958 0.11786196 0.19333484]\n",
      " [0.09212745 0.56805643 0.63807929 0.50213729 0.17356606 0.86949858\n",
      "  0.06289222 0.57367958 0.11786196 0.19333484]\n",
      " [0.09212745 0.56805643 0.63807929 0.50213729 0.17356606 0.86949858\n",
      "  0.06289222 0.57367958 0.11786196 0.19333484]\n",
      " [0.09212745 0.56805643 0.63807929 0.50213729 0.17356606 0.86949858\n",
      "  0.06289222 0.57367958 0.11786196 0.19333484]\n",
      " [0.09212745 0.56805643 0.63807929 0.50213729 0.17356606 0.86949858\n",
      "  0.06289222 0.57367958 0.11786196 0.19333484]\n",
      " [0.09212745 0.56805643 0.63807929 0.50213729 0.17356606 0.86949858\n",
      "  0.06289222 0.57367958 0.11786196 0.19333484]\n",
      " [0.09212745 0.56805643 0.63807929 0.50213729 0.17356606 0.86949858\n",
      "  0.06289222 0.57367958 0.11786196 0.19333484]\n",
      " [0.09212745 0.56805643 0.63807929 0.50213729 0.17356606 0.86949858\n",
      "  0.06289222 0.57367958 0.11786196 0.19333484]\n",
      " [0.09212745 0.56805643 0.63807929 0.50213729 0.17356606 0.86949858\n",
      "  0.06289222 0.57367958 0.11786196 0.19333484]\n",
      " [0.09212745 0.56805643 0.63807929 0.50213729 0.17356606 0.86949858\n",
      "  0.06289222 0.57367958 0.11786196 0.19333484]\n",
      " [0.09212745 0.56805643 0.63807929 0.50213729 0.17356606 0.86949858\n",
      "  0.06289222 0.57367958 0.11786196 0.19333484]]\n"
     ]
    }
   ],
   "source": [
    "x = np.random.random((32, 10))\n",
    "y = np.random.random((10,))\n",
    "print(y.shape)\n",
    "y = np.expand_dims(y, axis=0) # (1, 10)\n",
    "print(y.shape)\n",
    "y = np.concatenate([y] * 32, axis=0) # (32, 10)\n",
    "print(y.shape)\n",
    "print(y)"
   ]
  },
  {
   "cell_type": "code",
   "execution_count": 60,
   "metadata": {},
   "outputs": [],
   "source": [
    "def naive_add_matrix_and_vector(x, y):\n",
    "    assert len(x.shape) == 2 # numpy matrix\n",
    "    assert len(y.shape) == 1 # numpy vector\n",
    "    assert x.shape[1] == y.shape[0]\n",
    "    x = x.copy()\n",
    "    for i in range(x.shape[0]):\n",
    "        for j in range(x.shape[1]):\n",
    "            x[i, j] += y[j]\n",
    "    return x"
   ]
  },
  {
   "cell_type": "code",
   "execution_count": 61,
   "metadata": {},
   "outputs": [
    {
     "name": "stdout",
     "output_type": "stream",
     "text": [
      "(32, 10)\n",
      "[[0.54527205 1.11938742 1.41439037 1.40407817 0.20303428 1.38879931\n",
      "  1.4451004  1.33814887 1.28209083 0.91050687]\n",
      " [0.99463295 0.82710384 0.72523829 0.70961995 0.33787453 1.44596511\n",
      "  1.05502904 1.42554839 1.30702603 1.36465036]\n",
      " [0.94006552 0.97884892 1.48849985 0.89956548 0.93885879 1.0121345\n",
      "  1.21346001 1.99686909 0.66242072 0.94162692]\n",
      " [0.70689511 0.48029254 1.33087485 0.90858929 0.29418303 0.60000155\n",
      "  0.73599036 1.96839973 0.82347993 0.95004815]\n",
      " [1.0996811  0.49278961 1.44814499 1.09867573 1.02801277 1.53017357\n",
      "  1.40497112 1.55928755 1.24108015 0.56786625]\n",
      " [1.30781083 1.0620635  0.89738311 1.01488196 0.94987287 1.11165197\n",
      "  0.70098894 1.45412024 1.04907121 0.93967089]\n",
      " [0.50768643 1.168268   0.75739953 0.8711173  0.37369871 1.41349802\n",
      "  1.39489506 1.74613301 1.09063027 1.50406107]\n",
      " [0.69156433 1.10745383 0.72808362 0.85770144 0.90660244 1.24579482\n",
      "  0.55209607 1.10195085 1.08576296 1.04769259]\n",
      " [1.29118483 1.0603007  1.39694925 0.43455127 0.82013618 0.60128002\n",
      "  1.35293432 1.87758688 1.08934482 1.52363624]\n",
      " [1.35200162 0.55925396 0.83184514 0.8340813  0.66914901 0.85785739\n",
      "  0.81320381 1.70154787 1.02512563 0.65948219]\n",
      " [0.66967643 0.61401502 0.87308716 1.40288567 0.29952772 1.48917251\n",
      "  0.82870508 1.28160398 0.93942454 1.30642158]\n",
      " [0.92739741 1.01222329 1.55882279 1.1195437  0.29479593 0.79811171\n",
      "  0.51960773 1.32462113 1.07082316 0.80264418]\n",
      " [0.93243348 0.32599058 1.24514533 0.99444434 0.75951621 1.35633817\n",
      "  1.2642043  1.81868446 1.04150643 0.99490569]\n",
      " [0.43480962 1.18514708 0.8641115  1.34966664 0.97730084 0.96578531\n",
      "  1.42620897 1.70328634 0.81790358 1.06338684]\n",
      " [0.7170724  1.18352231 1.21461885 0.67952046 0.95894337 1.4223199\n",
      "  1.24035663 1.82701571 0.91293962 0.58886849]\n",
      " [1.39498782 0.90884321 0.66670399 1.04910535 0.563992   1.12984658\n",
      "  0.53713809 1.1563544  1.36217427 1.30453596]\n",
      " [0.92673118 0.46569572 1.25281332 0.63880278 0.5026655  0.79499972\n",
      "  0.52909281 1.76401748 1.21198939 1.01012629]\n",
      " [0.79622644 0.94853164 0.89304184 0.61083143 0.81931314 0.98039669\n",
      "  1.15716151 1.28855046 1.21719254 1.43937729]\n",
      " [1.05175991 0.30748563 0.7164952  0.56027643 0.17783561 1.15594934\n",
      "  0.67742641 1.49163837 0.67182602 1.01576296]\n",
      " [1.22804122 1.25172622 1.34082153 0.66646158 0.25414917 0.98866728\n",
      "  0.7658819  1.61184476 0.90345715 0.7359907 ]\n",
      " [1.24932738 1.09934082 0.93824895 0.51874768 0.8847048  0.70291964\n",
      "  1.21808614 1.31840398 1.36068671 0.9028094 ]\n",
      " [0.73108365 0.98964218 1.22708716 0.56081112 0.42856877 0.67517592\n",
      "  0.77163466 1.63879289 0.7186776  1.41771564]\n",
      " [0.60849485 0.94655226 1.00317414 0.71203453 0.96925806 1.42677241\n",
      "  0.99536104 1.62644536 0.89787558 0.90514434]\n",
      " [0.79653995 0.46305767 1.22759077 1.24671652 0.23941543 0.7905775\n",
      "  1.09519303 1.5563585  1.19513494 1.14325116]\n",
      " [0.59279264 1.13758249 1.19165467 0.4330443  1.05240597 0.61085924\n",
      "  1.4440978  1.11850454 0.78916933 1.0686427 ]\n",
      " [1.31972856 0.56853177 0.83980442 1.20969909 0.52379216 1.44498401\n",
      "  1.06996541 1.54564081 1.024204   1.23782808]\n",
      " [0.51837512 0.27848777 1.07261398 0.95527468 1.12094044 1.51476322\n",
      "  1.18859981 1.5616257  1.20112279 0.77373017]\n",
      " [0.86727354 0.36865584 1.1519891  0.75954328 0.24923912 0.70543028\n",
      "  1.10855242 1.7782297  1.11213424 0.67280142]\n",
      " [0.77292042 1.16700264 1.55873745 1.08846034 0.58106567 1.55842593\n",
      "  1.19844805 1.25696382 1.22871888 0.86730659]\n",
      " [0.77702711 0.41205511 1.32953786 0.83210639 0.80764105 0.74048867\n",
      "  1.05407929 1.30763007 0.80088106 0.78447625]\n",
      " [0.53388106 0.70504988 1.26781397 0.79902891 0.3723159  1.39379554\n",
      "  0.7099712  1.77417734 1.40797022 1.43029411]\n",
      " [0.79309936 0.60650421 1.24980954 1.07098701 0.97599458 1.33343185\n",
      "  1.42997056 1.77763563 0.74461182 0.82831262]]\n"
     ]
    }
   ],
   "source": [
    "x = np.random.random((32, 10))\n",
    "y = np.random.random((10,))\n",
    "Y = naive_add_matrix_and_vector(x, y)\n",
    "print(Y.shape)\n",
    "print(Y)"
   ]
  },
  {
   "cell_type": "markdown",
   "metadata": {},
   "source": [
    "`broadcasting`을 사용해서 서로 다른 차원의 tensor에 원소 별(element-wise) maximum을 계산하는 예제"
   ]
  },
  {
   "cell_type": "code",
   "execution_count": 62,
   "metadata": {},
   "outputs": [
    {
     "name": "stdout",
     "output_type": "stream",
     "text": [
      "(64, 3, 32, 10)\n"
     ]
    }
   ],
   "source": [
    "import numpy as np\n",
    "x = np.random.random((64, 3, 32, 10))\n",
    "y = np.random.random((32, 10))\n",
    "z = np.maximum(x, y)\n",
    "print(z.shape)"
   ]
  },
  {
   "cell_type": "markdown",
   "metadata": {},
   "source": [
    "numpy에서 말하는 axis는 수학/물리에서 말하는 차원에 해당"
   ]
  },
  {
   "cell_type": "markdown",
   "metadata": {},
   "source": [
    "## 2.3.3 Tensor product"
   ]
  },
  {
   "cell_type": "markdown",
   "metadata": {},
   "source": [
    "tensor product(dot product), 가장 일반적인 연산자. numpy 에서 dot product는 np.dot 함수를 사용"
   ]
  },
  {
   "cell_type": "code",
   "execution_count": 63,
   "metadata": {},
   "outputs": [
    {
     "name": "stdout",
     "output_type": "stream",
     "text": [
      "rank-()\n",
      "7.353281270382292\n"
     ]
    }
   ],
   "source": [
    "x = np.random.random((32,))\n",
    "y = np.random.random((32,))\n",
    "z = np.dot(x, y)\n",
    "print(f\"rank-{z.shape}\")\n",
    "print(z)"
   ]
  },
  {
   "cell_type": "code",
   "execution_count": 64,
   "metadata": {},
   "outputs": [
    {
     "name": "stdout",
     "output_type": "stream",
     "text": [
      "7.3532812703822925\n"
     ]
    }
   ],
   "source": [
    "def naive_vector_dot(x, y):\n",
    "    assert len(x.shape) == 1\n",
    "    assert len(y.shape) == 1\n",
    "    assert x.shape[0] == y.shape[0]\n",
    "    z = 0.\n",
    "    for i in range(x.shape[0]):\n",
    "        z += x[i] * y[i]\n",
    "    return z\n",
    "\n",
    "z = naive_vector_dot(x, y)\n",
    "print(z)"
   ]
  },
  {
   "cell_type": "markdown",
   "metadata": {},
   "source": [
    "- 두 벡터의 dot product 결과는 스칼라\n",
    "- 두 벡터의 차원이 같은 경우만 dot product 연산이 가능"
   ]
  },
  {
   "cell_type": "markdown",
   "metadata": {},
   "source": [
    "matrix와 vector 사이의 dot product 연산"
   ]
  },
  {
   "cell_type": "code",
   "execution_count": 65,
   "metadata": {},
   "outputs": [
    {
     "name": "stdout",
     "output_type": "stream",
     "text": [
      "(32,)\n",
      "(32,)\n",
      "[2.1504813  2.60183709 1.85618259 2.22214212 2.28312637 2.79374638\n",
      " 2.48162005 2.45394175 2.86080802 2.6237829  2.21983384 2.2554224\n",
      " 2.10153273 2.84240306 2.5112961  1.96192507 2.59910169 1.98354713\n",
      " 2.05173042 2.49285343 3.18050355 2.14135746 1.54042784 2.71952904\n",
      " 3.01252547 2.04661111 1.68153805 2.4122729  3.33323301 3.41311041\n",
      " 1.62208303 2.84318559]\n",
      "[2.1504813  2.60183709 1.85618259 2.22214212 2.28312637 2.79374638\n",
      " 2.48162005 2.45394175 2.86080802 2.6237829  2.21983384 2.2554224\n",
      " 2.10153273 2.84240306 2.5112961  1.96192507 2.59910169 1.98354713\n",
      " 2.05173042 2.49285343 3.18050355 2.14135746 1.54042784 2.71952904\n",
      " 3.01252547 2.04661111 1.68153805 2.4122729  3.33323301 3.41311041\n",
      " 1.62208303 2.84318559]\n"
     ]
    }
   ],
   "source": [
    "def naive_matrix_vector_dot(x, y):\n",
    "    assert len(x.shape) == 2\n",
    "    assert len(y.shape) == 1\n",
    "    assert x.shape[1] == y.shape[0]\n",
    "    z = np.zeros(x.shape[0])\n",
    "    for i in range(x.shape[0]):\n",
    "        for j in range(x.shape[1]):\n",
    "            z[i] += x[i, j] * y[j]\n",
    "    return z\n",
    "\n",
    "x = np.random.random((32, 10))\n",
    "y = np.random.random((10,))\n",
    "\n",
    "z = naive_matrix_vector_dot(x, y)\n",
    "print(z.shape)\n",
    "\n",
    "z1 = np.dot(x, y)\n",
    "print(z.shape)\n",
    "print(z)\n",
    "print(z1)"
   ]
  },
  {
   "cell_type": "code",
   "execution_count": 66,
   "metadata": {},
   "outputs": [
    {
     "name": "stdout",
     "output_type": "stream",
     "text": [
      "(10, 10)\n",
      "(10, 10)\n"
     ]
    }
   ],
   "source": [
    "# x[a, b], y[c, d]\n",
    "# a == c\n",
    "def naive_matrix_dot(x, y):\n",
    "    assert len(x.shape) == 2\n",
    "    assert len(y.shape) == 2\n",
    "    assert x.shape[1] == y.shape[0]\n",
    "    z = np.zeros((x.shape[0], y.shape[1]))\n",
    "    for i in range(x.shape[0]):\n",
    "        for j in range(y.shape[1]):\n",
    "            row_x = x[i, :]\n",
    "            column_y = y[:, j]\n",
    "            z[i, j] = naive_vector_dot(row_x, column_y)\n",
    "    return z\n",
    "\n",
    "x = np.random.random((10, 32))\n",
    "y = np.random.random((32, 10))\n",
    "z = naive_matrix_dot(x, y)\n",
    "print(z.shape)\n",
    "z1 = np.dot(x, y)\n",
    "print(z1.shape)"
   ]
  },
  {
   "cell_type": "markdown",
   "metadata": {},
   "source": [
    "## 2.3.4 Tensor reshaping"
   ]
  },
  {
   "cell_type": "code",
   "execution_count": 67,
   "metadata": {},
   "outputs": [
    {
     "name": "stdout",
     "output_type": "stream",
     "text": [
      "(60000, 28, 28)\n",
      "(60000, 784)\n"
     ]
    }
   ],
   "source": [
    "print(train_images.shape)\n",
    "train_images = train_images.reshape((60000, 28 * 28))\n",
    "print(train_images.shape)"
   ]
  },
  {
   "cell_type": "code",
   "execution_count": 72,
   "metadata": {},
   "outputs": [
    {
     "name": "stdout",
     "output_type": "stream",
     "text": [
      "(4, 2)\n",
      "(8, 1)\n",
      "(2, 4)\n"
     ]
    }
   ],
   "source": [
    "x = np.array([\n",
    "    [0., 1.],\n",
    "    [2., 3.],\n",
    "    [4., 5.],\n",
    "    [6., 7.],\n",
    "])\n",
    "print(x.shape)\n",
    "x = x.reshape((8, 1))\n",
    "print(x.shape)\n",
    "x\n",
    "x = x.reshape((2, 4))\n",
    "x\n",
    "print(x.shape)"
   ]
  },
  {
   "cell_type": "code",
   "execution_count": 73,
   "metadata": {},
   "outputs": [
    {
     "name": "stdout",
     "output_type": "stream",
     "text": [
      "(300, 20)\n",
      "(20, 300)\n"
     ]
    }
   ],
   "source": [
    "x = np.zeros((300, 20))\n",
    "print(x.shape)\n",
    "x = np.transpose(x)\n",
    "print(x.shape)"
   ]
  },
  {
   "cell_type": "markdown",
   "metadata": {},
   "source": [
    "## 2.3.5 Geometric interpretation of tensor operations"
   ]
  },
  {
   "cell_type": "markdown",
   "metadata": {},
   "source": [
    "## 2.3.6 A Geometric interpretation of deep learning"
   ]
  }
 ],
 "metadata": {
  "interpreter": {
   "hash": "854e5cb8242ab40432d35989ad8f3935a4016fdb4b5ed975f8f3200760972b9b"
  },
  "kernelspec": {
   "display_name": "Python 3.9.7 64-bit ('jbook': conda)",
   "language": "python",
   "name": "python3"
  },
  "language_info": {
   "codemirror_mode": {
    "name": "ipython",
    "version": 3
   },
   "file_extension": ".py",
   "mimetype": "text/x-python",
   "name": "python",
   "nbconvert_exporter": "python",
   "pygments_lexer": "ipython3",
   "version": "3.9.7"
  },
  "orig_nbformat": 4
 },
 "nbformat": 4,
 "nbformat_minor": 2
}
