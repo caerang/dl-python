{
 "cells": [
  {
   "cell_type": "markdown",
   "metadata": {},
   "source": [
    "# 2.2 Data Representations for Neural Networks"
   ]
  },
  {
   "cell_type": "markdown",
   "metadata": {},
   "source": [
    "일반적으로 최근 기계 학습 프레임워크는 텐서를 기본 자료 구조로 사용\n",
    "\n",
    "텐서는 숫자를 저장할 수 있는 컨테이너"
   ]
  },
  {
   "cell_type": "markdown",
   "metadata": {},
   "source": [
    "## 2.2.1 Scalars (rank-0 텐서)"
   ]
  },
  {
   "cell_type": "markdown",
   "metadata": {},
   "source": [
    "숫자 하나로만 표현하는 텐서는 스칼라라고 함(또는 스칼라 텐서, rank-0 tensor). numpy에서 float32 또는 float64 숫자는 스칼라 텐서. `ndim` 속성을 사용해서 numpy tensor의 축의 개수를 표시할 수 있음"
   ]
  },
  {
   "cell_type": "code",
   "execution_count": 1,
   "metadata": {},
   "outputs": [
    {
     "name": "stdout",
     "output_type": "stream",
     "text": [
      "12\n"
     ]
    },
    {
     "data": {
      "text/plain": [
       "0"
      ]
     },
     "execution_count": 1,
     "metadata": {},
     "output_type": "execute_result"
    }
   ],
   "source": [
    "import numpy as np\n",
    "\n",
    "x = np.array(12)\n",
    "print(x)\n",
    "x.ndim"
   ]
  },
  {
   "cell_type": "markdown",
   "metadata": {},
   "source": [
    "## 2.2.2 Vectors (rank-1 tensor)"
   ]
  },
  {
   "cell_type": "markdown",
   "metadata": {},
   "source": [
    "숫자의 배열은 벡터(rank-1 tensor, 1D tensor)라고 함. 1D tensor는 축이 한 개임"
   ]
  },
  {
   "cell_type": "code",
   "execution_count": 2,
   "metadata": {},
   "outputs": [
    {
     "name": "stdout",
     "output_type": "stream",
     "text": [
      "[ 1  2  4  8 16]\n"
     ]
    },
    {
     "data": {
      "text/plain": [
       "1"
      ]
     },
     "execution_count": 2,
     "metadata": {},
     "output_type": "execute_result"
    }
   ],
   "source": [
    "x = np.array([1, 2, 4, 8, 16])\n",
    "print(x)\n",
    "x.ndim"
   ]
  },
  {
   "cell_type": "markdown",
   "metadata": {},
   "source": [
    "코드에서 벡터 x는 원소가 다섯개 이기 때문에 5차원 벡터임."
   ]
  },
  {
   "cell_type": "markdown",
   "metadata": {},
   "source": [
    "## 2.2.3 Matrices (rank-2 tensors)\n",
    "\n",
    "벡터의 배열은 행렬(rank-2 tensor, 2D tensor)이라고 함. 행렬은 두 개의 axes(rows, columns)를 갖고 있음. 행렬은 테이블로 생각할 수 있음"
   ]
  },
  {
   "cell_type": "code",
   "execution_count": 3,
   "metadata": {},
   "outputs": [
    {
     "data": {
      "text/plain": [
       "2"
      ]
     },
     "execution_count": 3,
     "metadata": {},
     "output_type": "execute_result"
    }
   ],
   "source": [
    "x = np.array([\n",
    "    [5, 78, 2, 34, 0],\n",
    "    [6, 79, 3, 25, 1],\n",
    "    [8, 89, 4, 38, 2]\n",
    "])\n",
    "x.ndim"
   ]
  },
  {
   "cell_type": "markdown",
   "metadata": {},
   "source": [
    "첫 번째 axis를 rows, 두 번째 axis를 columns라고 함. 코드에서 `[5, 78, 2, 34, 0]` 가 첫 번재 행렬 x의 첫 번째 row 이고 `[5, 6, 8]` 이 행렬 x의 첫 번째 column"
   ]
  },
  {
   "cell_type": "markdown",
   "metadata": {},
   "source": [
    "## 2.2.4 Rank-3 and higher-rank tensors"
   ]
  },
  {
   "cell_type": "markdown",
   "metadata": {},
   "source": [
    "행렬을 새로운 배열에 쌓으면 rank-3 tensor가 됨(3D tensor). 숫자들의 큐브 형태로 생각할 수 있음 [그림 추가]"
   ]
  },
  {
   "cell_type": "code",
   "execution_count": 5,
   "metadata": {},
   "outputs": [
    {
     "data": {
      "text/plain": [
       "3"
      ]
     },
     "execution_count": 5,
     "metadata": {},
     "output_type": "execute_result"
    }
   ],
   "source": [
    "x = np.array([\n",
    "    [[5, 78, 2, 34, 0],\n",
    "     [6, 79, 3, 25, 1],\n",
    "     [7, 80, 4, 36, 2]],\n",
    "    [[5, 78, 2, 34, 0],\n",
    "     [6, 79, 3, 25, 1],\n",
    "     [7, 80, 4, 36, 2]],\n",
    "    [[5, 78, 2, 34, 0],\n",
    "     [6, 79, 3, 25, 1],\n",
    "     [7, 80, 4, 36, 2]]\n",
    "])\n",
    "x.ndim"
   ]
  },
  {
   "cell_type": "markdown",
   "metadata": {},
   "source": [
    "## 2.2.5 Key attributes"
   ]
  },
  {
   "cell_type": "markdown",
   "metadata": {},
   "source": [
    "- Number of axes(rank) : 텐서가 가지고 있는 축의 수\n",
    "- Shape : a tuple of integer (텐서가 각 축에 대해서 가지고 있는 차원의 수)\n",
    "- Data type (dtype in python library) : float16, float32, float64, uint8, ..."
   ]
  },
  {
   "cell_type": "code",
   "execution_count": 8,
   "metadata": {},
   "outputs": [
    {
     "name": "stdout",
     "output_type": "stream",
     "text": [
      "3\n",
      "(60000, 28, 28)\n",
      "uint8\n"
     ]
    }
   ],
   "source": [
    "from tensorflow.keras.datasets import mnist\n",
    "(train_images, train_labels), (test_images, test_labels) = mnist.load_data()\n",
    "print(train_images.ndim)\n",
    "print(train_images.shape)\n",
    "print(train_images.dtype)"
   ]
  },
  {
   "cell_type": "code",
   "execution_count": 12,
   "metadata": {},
   "outputs": [
    {
     "data": {
      "image/png": "[encoded data removed]",
      "text/plain": [
       "<Figure size 432x288 with 1 Axes>"
      ]
     },
     "metadata": {
      "needs_background": "light"
     },
     "output_type": "display_data"
    },
    {
     "name": "stdout",
     "output_type": "stream",
     "text": [
      "6\n"
     ]
    }
   ],
   "source": [
    "import matplotlib.pyplot as plt\n",
    "index = 90\n",
    "digit = train_images[index]\n",
    "plt.imshow(digit, cmap=plt.cm.binary)\n",
    "plt.show()\n",
    "print(train_labels[index])"
   ]
  },
  {
   "cell_type": "markdown",
   "metadata": {},
   "source": [
    "## 2.2.6 Manipulating tensors in Numpy"
   ]
  },
  {
   "cell_type": "code",
   "execution_count": 13,
   "metadata": {},
   "outputs": [
    {
     "data": {
      "text/plain": [
       "(90, 28, 28)"
      ]
     },
     "execution_count": 13,
     "metadata": {},
     "output_type": "execute_result"
    }
   ],
   "source": [
    "my_slice = train_images[10:100]\n",
    "my_slice.shape\n",
    "my_slice2 = train_images[10:100, :, :]\n",
    "print(my_slice2.shape)"
   ]
  }
 ],
 "metadata": {
  "interpreter": {
   "hash": "854e5cb8242ab40432d35989ad8f3935a4016fdb4b5ed975f8f3200760972b9b"
  },
  "kernelspec": {
   "display_name": "Python 3.9.7 64-bit ('jbook': conda)",
   "language": "python",
   "name": "python3"
  },
  "language_info": {
   "codemirror_mode": {
    "name": "ipython",
    "version": 3
   },
   "file_extension": ".py",
   "mimetype": "text/x-python",
   "name": "python",
   "nbconvert_exporter": "python",
   "pygments_lexer": "ipython3",
   "version": "3.9.7"
  },
  "orig_nbformat": 4
 },
 "nbformat": 4,
 "nbformat_minor": 2
}
